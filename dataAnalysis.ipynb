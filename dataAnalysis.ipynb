{
 "cells": [
  {
   "cell_type": "code",
   "execution_count": 1,
   "source": [
    "import sklearn as sk\n",
    "%matplotlib inline\n",
    "import pandas as pd\n",
    "import astropy as ap\n",
    "import matplotlib.pyplot as plt\n",
    "from matplotlib.image import NonUniformImage\n",
    "import numpy as np\n",
    "from os.path import exists\n",
    "from sklearn.decomposition import PCA \n",
    "import scipy.stats as stats\n",
    "#import aplpy as ap\n",
    "import unittest\n",
    "import warnings\n",
    "\n",
    "\n",
    "\n",
    "\n"
   ],
   "outputs": [],
   "metadata": {}
  },
  {
   "cell_type": "code",
   "execution_count": 137,
   "source": [
    "\n",
    "# # Call different fits for either full or truncated SVD\n",
    "#         if self._fit_svd_solver == 'full':\n",
    "#           return self._fit_full(X, n_components)\n",
    "#              elif self._fit_svd_solver in ['arpack', 'randomized']:\n",
    "#        return self._fit_truncated(X, n_components, self._fit_svd_solver)\n",
    "# pca = PCA(n_components=2)\n",
    "\n",
    "# principalComponents = pca.fit_transform(data[:,2:3])\n"
   ],
   "outputs": [],
   "metadata": {}
  },
  {
   "cell_type": "code",
   "execution_count": 23,
   "source": [
    "import sklearn as sk\n",
    "%matplotlib inline\n",
    "import pandas as pd\n",
    "import astropy as ap\n",
    "import matplotlib.pyplot as plt\n",
    "from matplotlib.image import NonUniformImage\n",
    "import numpy as np\n",
    "from os.path import exists\n",
    "from sklearn.decomposition import PCA \n",
    "import scipy.stats as stats\n",
    "#import aplpy as ap\n",
    "import unittest\n",
    "import warnings\n",
    "\n",
    "\n",
    "\n",
    "data = np.genfromtxt('Master_AllSurveyed_anconsta.dat', delimiter='\t')\n",
    "\n",
    "# Switch numbers to -999 if there is a NAN\n",
    "data[np.isnan(data)] = -999\n",
    "\n",
    "#make sure the shape still remains the same in terms of data\n",
    "print(data.shape)\n",
    "\n",
    "# CHECK FOR NAN VALUES\n",
    "\n",
    "#check complete, false indicated no NAN values in the numpy array\n",
    "array_sum = np.all(data)\n",
    "array_has_nan = np.isnan(array_sum)\n",
    "\n",
    "print(array_has_nan)\n",
    "\n",
    "# column(param 1) vs other params\n",
    "\n",
    "\n",
    "paramOne = data[:,1] #check condition of fake values \n",
    "paramTwo = data[:,2]\n",
    "paramThree = data[:,3]\n",
    "paramFour = data[:,4]\n",
    "paramFive = data[:,5]\n",
    "paramSix = data[:,6]\n",
    "paramSeven = data[:,7]\n",
    "paramEight = data[:,8]\n",
    "paramNine = data[:,9]\n",
    "paramTen = data[:,10]\n",
    "paramElevlen = data[:,11]\n",
    "paramTwelve = data[:,12]\n",
    "paramThirteen = data[:,13]\n",
    "paramFourteen = data[:,14]\n",
    "paramFifteen = data[:,15]\n",
    "paramSixteen = data[:,16]\n",
    "paramSeventeen = data[:,17]\n",
    "\n",
    "#Take out -999 (fake values) when doing firs step of data analysis\n",
    "\n",
    "\n",
    "#First step of PCA, standarize the data\n",
    "firstParamZ =stats.zscore(paramOne)\n",
    "secondParamZ = stats.zscore(paramTwo)\n",
    "\n",
    "\n",
    "cov_mat = np.stack((firstParamZ, secondParamZ) ,axis= 0)\n",
    "param1covparam2 = np.cov(firstParamZ)\n",
    "print(firstParamZ)\n",
    "print(np.cov(cov_mat))\n",
    "\n",
    "firstcov =np.cov(firstParamZ)\n",
    "secondcov = np.cov(secondParamZ)\n",
    "\n",
    "firstParamZ = pd.Series(firstParamZ)\n",
    "secondParamZ = pd.Series(secondParamZ)\n",
    "\n",
    "cov1 = firstParamZ.cov(secondParamZ)\n",
    "cov2 = secondParamZ.cov(firstParamZ)\n",
    "\n",
    "plt.title(\"Covariance of first param with second\")\n",
    "plt.hist(cov1,4)\n",
    "\n",
    "\n",
    "\n",
    "\n",
    "\n",
    "\n",
    "\n",
    "\n"
   ],
   "outputs": [
    {
     "output_type": "stream",
     "name": "stdout",
     "text": [
      "(1422, 25)\n",
      "False\n",
      "[-1.55951148 -1.25010962 -0.24107466 ...  0.03738702 -1.23256698\n",
      " -0.30880258]\n",
      "[[1.00070373 1.00040229]\n",
      " [1.00040229 1.00070373]]\n"
     ]
    },
    {
     "output_type": "execute_result",
     "data": {
      "text/plain": [
       "(array([0., 0., 1., 0.]),\n",
       " array([0.50040229, 0.75040229, 1.00040229, 1.25040229, 1.50040229]),\n",
       " <BarContainer object of 4 artists>)"
      ]
     },
     "metadata": {},
     "execution_count": 23
    },
    {
     "output_type": "display_data",
     "data": {
      "image/png": "[encoded data removed]",
      "text/plain": [
       "<Figure size 432x288 with 1 Axes>"
      ]
     },
     "metadata": {
      "needs_background": "light"
     }
    }
   ],
   "metadata": {}
  },
  {
   "cell_type": "code",
   "execution_count": null,
   "source": [
    "# Find out heat map and print values here \n",
    "\n",
    "\n"
   ],
   "outputs": [],
   "metadata": {}
  },
  {
   "cell_type": "code",
   "execution_count": 14,
   "source": [
    "plt.hist(np.cov(cov_mat))\n",
    "plt.scatter(firstParamZ,secondParamZ)"
   ],
   "outputs": [
    {
     "output_type": "execute_result",
     "data": {
      "text/plain": [
       "<matplotlib.collections.PathCollection at 0x7fb7f2532be0>"
      ]
     },
     "metadata": {},
     "execution_count": 14
    },
    {
     "output_type": "display_data",
     "data": {
      "image/png": "[encoded data removed]",
      "text/plain": [
       "<Figure size 432x288 with 1 Axes>"
      ]
     },
     "metadata": {
      "needs_background": "light"
     }
    }
   ],
   "metadata": {}
  },
  {
   "cell_type": "code",
   "execution_count": 180,
   "source": [
    "plt.scatter(firstParamZ,secondParamZ)"
   ],
   "outputs": [
    {
     "output_type": "execute_result",
     "data": {
      "text/plain": [
       "<matplotlib.collections.PathCollection at 0x7f9cf296d850>"
      ]
     },
     "metadata": {},
     "execution_count": 180
    },
    {
     "output_type": "display_data",
     "data": {
      "image/png": "[encoded data removed]",
      "text/plain": [
       "<Figure size 432x288 with 1 Axes>"
      ]
     },
     "metadata": {
      "needs_background": "light"
     }
    }
   ],
   "metadata": {}
  }
 ],
 "metadata": {
  "orig_nbformat": 4,
  "language_info": {
   "name": "python",
   "version": "3.9.4",
   "mimetype": "text/x-python",
   "codemirror_mode": {
    "name": "ipython",
    "version": 3
   },
   "pygments_lexer": "ipython3",
   "nbconvert_exporter": "python",
   "file_extension": ".py"
  },
  "kernelspec": {
   "name": "python3",
   "display_name": "Python 3.9.4 64-bit"
  },
  "interpreter": {
   "hash": "aee8b7b246df8f9039afb4144a1f6fd8d2ca17a180786b69acc140d282b71a49"
  }
 },
 "nbformat": 4,
 "nbformat_minor": 2
}